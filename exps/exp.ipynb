{
 "cells": [
  {
   "cell_type": "code",
   "execution_count": 1,
   "metadata": {
    "id": "nmnP0OoaJ4pP"
   },
   "outputs": [
    {
     "name": "stdout",
     "output_type": "stream",
     "text": [
      "Sat Feb 25 06:21:20 2023       \n",
      "+-----------------------------------------------------------------------------+\n",
      "| NVIDIA-SMI 470.141.03   Driver Version: 470.141.03   CUDA Version: 11.4     |\n",
      "|-------------------------------+----------------------+----------------------+\n",
      "| GPU  Name        Persistence-M| Bus-Id        Disp.A | Volatile Uncorr. ECC |\n",
      "| Fan  Temp  Perf  Pwr:Usage/Cap|         Memory-Usage | GPU-Util  Compute M. |\n",
      "|                               |                      |               MIG M. |\n",
      "|===============================+======================+======================|\n",
      "|   0  Tesla V100-SXM2...  On   | 00000000:0B:00.0 Off |                    0 |\n",
      "| N/A   30C    P0    43W / 163W |      0MiB / 32510MiB |      0%      Default |\n",
      "|                               |                      |                  N/A |\n",
      "+-------------------------------+----------------------+----------------------+\n",
      "                                                                               \n",
      "+-----------------------------------------------------------------------------+\n",
      "| Processes:                                                                  |\n",
      "|  GPU   GI   CI        PID   Type   Process name                  GPU Memory |\n",
      "|        ID   ID                                                   Usage      |\n",
      "|=============================================================================|\n",
      "|  No running processes found                                                 |\n",
      "+-----------------------------------------------------------------------------+\n"
     ]
    }
   ],
   "source": [
    "!nvidia-smi"
   ]
  },
  {
   "cell_type": "markdown",
   "metadata": {
    "id": "EaIVNeQDIdaB"
   },
   "source": [
    "## Setup environment"
   ]
  },
  {
   "cell_type": "code",
   "execution_count": 2,
   "metadata": {
    "colab": {
     "base_uri": "https://localhost:8080/"
    },
    "executionInfo": {
     "elapsed": 58587,
     "status": "ok",
     "timestamp": 1667727198633,
     "user": {
      "displayName": "22",
      "userId": "12730652554089239437"
     },
     "user_tz": -480
    },
    "id": "Oj2GFXrhLdJ9",
    "outputId": "6330e29a-38e7-43a1-d5a2-bddf86d9d07d"
   },
   "outputs": [
    {
     "name": "stdout",
     "output_type": "stream",
     "text": [
      "/nfs/Workspace/TeethSeg\n"
     ]
    }
   ],
   "source": [
    "workspace_dir = '/nfs/Workspace/TeethSeg'\n",
    "%cd {workspace_dir}\n",
    "%load_ext autoreload\n",
    "%autoreload 2"
   ]
  },
  {
   "cell_type": "markdown",
   "metadata": {
    "jp-MarkdownHeadingCollapsed": true,
    "tags": []
   },
   "source": [
    "## Preprocess"
   ]
  },
  {
   "cell_type": "code",
   "execution_count": 14,
   "metadata": {},
   "outputs": [
    {
     "name": "stdout",
     "output_type": "stream",
     "text": [
      "fold: 2\n",
      "train files (4): ['1001162439_20150708', '1001275319_20180114', '1001382496_20180423', '1001382496_20201206']\n",
      "val files (2): ['1001470164_20180114', '1001487462_20180109']\n",
      "test files (2): ['1001487462_20180527', '1001487462_20190427']\n",
      "save json to /nfs/Workspace/dataset/teeth/data_29/data.json\n"
     ]
    }
   ],
   "source": [
    "!PYTHONPATH={workspace_dir} /opt/conda/envs/TeethSeg/bin/python {workspace_dir}/expers/preprocess.py"
   ]
  },
  {
   "cell_type": "markdown",
   "metadata": {
    "id": "wjHHXsxrY_GO"
   },
   "source": [
    "## Setup config"
   ]
  },
  {
   "cell_type": "code",
   "execution_count": 6,
   "metadata": {
    "id": "IWG1M4NMYniV"
   },
   "outputs": [
    {
     "name": "stdout",
     "output_type": "stream",
     "text": [
      "/nfs/Workspace/TeethSeg/exps/swinunetr/teeth\n"
     ]
    }
   ],
   "source": [
    "import os\n",
    "\n",
    "model_name = 'swinunetr'\n",
    "data_name = 'teeth'\n",
    "exp_name = 'exp_1'\n",
    "\n",
    "root_exp_dir = os.path.join(\n",
    "    workspace_dir, \n",
    "    'exps',\n",
    "    model_name,\n",
    "    data_name,\n",
    "    exp_name\n",
    ")\n",
    "\n",
    "\n",
    "data_dir = '/nfs/Workspace/dataset/teeth/data_29'\n",
    "data_json = os.path.join(data_dir, 'data.json')\n",
    "model_dir = os.path.join(root_exp_dir, 'models')\n",
    "log_dir = os.path.join(root_exp_dir, 'logs')\n",
    "eval_dir = os.path.join(root_exp_dir, 'evals')\n",
    "\n",
    "best_checkpoint = os.path.join(model_dir, 'best_model.pth')\n",
    "final_checkpoint = os.path.join(model_dir, 'final_model.pth')\n",
    "\n",
    "\n",
    "os.makedirs(f'{workspace_dir}/exps/{model_name}/{data_name}', exist_ok=True)\n",
    "\n",
    "%cd {workspace_dir}/exps/{model_name}/{data_name}"
   ]
  },
  {
   "cell_type": "markdown",
   "metadata": {
    "id": "3dfeJTv8ZETs"
   },
   "source": [
    "## Train/Test"
   ]
  },
  {
   "cell_type": "code",
   "execution_count": null,
   "metadata": {
    "colab": {
     "base_uri": "https://localhost:8080/"
    },
    "executionInfo": {
     "elapsed": 5212593,
     "status": "ok",
     "timestamp": 1667732466402,
     "user": {
      "displayName": "22",
      "userId": "12730652554089239437"
     },
     "user_tz": -480
    },
    "id": "Pc5UecWCYizV",
    "outputId": "92365bec-cd7e-4561-b607-43d9f3520dd9"
   },
   "outputs": [
    {
     "name": "stdout",
     "output_type": "stream",
     "text": [
      "cuda is available\n",
      "<class 'monai.transforms.utility.array.AddChannel'>: Class `AddChannel` has been deprecated since version 0.8. please use MetaTensor data type and monai.transforms.EnsureChannelFirst instead.\n",
      "load json from /nfs/Workspace/dataset/teeth/data_29/data.json\n",
      "train files (4): ['1001162439_20150708', '1001275319_20180114', '1001382496_20180423', '1001382496_20201206']\n",
      "val files (2): ['1001470164_20180114', '1001487462_20180109']\n",
      "test files (2): ['1001487462_20180527', '1001487462_20190427']\n",
      "\n",
      "load train dataset ...\n",
      "Loading dataset: 100%|████████████████████████████| 4/4 [00:09<00:00,  2.45s/it]\n",
      "\n",
      "load val dataset ...\n",
      "Loading dataset: 100%|████████████████████████████| 2/2 [00:04<00:00,  2.39s/it]\n",
      "model: swinunetr\n",
      "optimzer: AdamW\n",
      "{'lr': 0.0005, 'weight_decay': 0.0005}\n",
      "[Epoch 0] Training (3 Steps) (loss=3.71686): 100%|█| 4/4 [00:07<00:00,  1.84s/it\n",
      "[Epoch 1] Training (7 Steps) (loss=3.40991): 100%|█| 4/4 [00:05<00:00,  1.35s/it\n",
      "[Epoch 2] Training (11 Steps) (loss=3.24794): 100%|█| 4/4 [00:05<00:00,  1.32s/i\n",
      "[Epoch 3] Training (15 Steps) (loss=3.11546): 100%|█| 4/4 [00:05<00:00,  1.31s/i\n",
      "[Epoch 4] Training (19 Steps) (loss=3.03767): 100%|█| 4/4 [00:05<00:00,  1.34s/i\n",
      "[Epoch 5] Training (23 Steps) (loss=3.06639): 100%|█| 4/4 [00:05<00:00,  1.32s/i\n",
      "[Epoch 6] Training (27 Steps) (loss=2.80497): 100%|█| 4/4 [00:05<00:00,  1.35s/i\n",
      "[Epoch 7] Training (31 Steps) (loss=2.66417): 100%|█| 4/4 [00:05<00:00,  1.31s/i\n",
      "[Epoch 8] Training (35 Steps) (loss=2.65126): 100%|█| 4/4 [00:05<00:00,  1.39s/i\n",
      "[Epoch 9] Training (39 Steps) (loss=2.50325): 100%|█| 4/4 [00:05<00:00,  1.34s/i\n",
      "[Epoch 10] Training (43 Steps) (loss=2.57649): 100%|█| 4/4 [00:05<00:00,  1.34s/\n",
      "[Epoch 11] Training (47 Steps) (loss=2.36777): 100%|█| 4/4 [00:05<00:00,  1.36s/\n",
      "[Epoch 12] Training (51 Steps) (loss=2.28370): 100%|█| 4/4 [00:05<00:00,  1.35s/\n",
      "[Epoch 13] Training (55 Steps) (loss=2.22418): 100%|█| 4/4 [00:05<00:00,  1.33s/\n",
      "[Epoch 14] Training (59 Steps) (loss=2.16748): 100%|█| 4/4 [00:05<00:00,  1.35s/\n",
      "[Epoch 15] Training (63 Steps) (loss=2.06839): 100%|█| 4/4 [00:05<00:00,  1.34s/\n",
      "[Epoch 16] Training (67 Steps) (loss=1.98329): 100%|█| 4/4 [00:05<00:00,  1.34s/\n",
      "[Epoch 17] Training (71 Steps) (loss=1.95134): 100%|█| 4/4 [00:05<00:00,  1.33s/\n",
      "[Epoch 18] Training (75 Steps) (loss=1.87110): 100%|█| 4/4 [00:05<00:00,  1.35s/\n",
      "[Epoch 19] Training (79 Steps) (loss=1.81135): 100%|█| 4/4 [00:05<00:00,  1.35s/\n",
      "[Epoch 20] Training (83 Steps) (loss=1.79046): 100%|█| 4/4 [00:05<00:00,  1.35s/\n",
      "Validate (X / X Steps) (dice=X.X):   0%|                  | 0/2 [00:00<?, ?it/s]None of the inputs have requires_grad=True. Gradients will be None\n",
      "Validate (84 / 10 Steps): 100%|███████████████████| 2/2 [00:02<00:00,  1.36s/it]\n",
      "Saving checkpoint /nfs/Workspace/TeethSeg/exps/swinunetr/teeth/exp_1/models/best_model.pth\n",
      "Best Model Was Saved ! Current Best Avg. Dice: 0.039879195392131805 Current Avg. Dice: 0.039879195392131805\n",
      "Saving checkpoint /nfs/Workspace/TeethSeg/exps/swinunetr/teeth/exp_1/models/final_model.pth\n",
      "Final Model Was Saved ! Current Best Avg. Dice: 0.039879195392131805 Current Avg. Dice: 0.039879195392131805\n",
      "Training (X / X Steps) (loss=X.X):   0%|                  | 0/4 [00:00<?, ?it/s]"
     ]
    }
   ],
   "source": [
    "# training\n",
    "!PYTHONPATH={workspace_dir} /opt/conda/envs/TeethSeg/bin/python {workspace_dir}/expers/train.py \\\n",
    "--exp_name={exp_name} \\\n",
    "--data_name={data_name} \\\n",
    "--root_exp_dir={root_exp_dir} \\\n",
    "--model_name={model_name}\\\n",
    "--data_dir={data_dir} \\\n",
    "--model_dir={model_dir} \\\n",
    "--log_dir={log_dir} \\\n",
    "--eval_dir={eval_dir} \\\n",
    "--data_dicts_json={data_json} \\\n",
    "--split_train_ratio=0.6 \\\n",
    "--num_fold=3 \\\n",
    "--fold=2 \\\n",
    "--val_every=20 \\\n",
    "--max_early_stop_count=20 \\\n",
    "--max_epoch=2000  \\\n",
    "--pin_memory \\\n",
    "--out_channels=29 \\\n",
    "--roi_x=96 \\\n",
    "--roi_y=96 \\\n",
    "--roi_z=96 \\\n",
    "--space_x=1.0 \\\n",
    "--space_y=1.0 \\\n",
    "--space_z=1.0 \\\n",
    "--optim='AdamW' \\\n",
    "--lr=5e-4 \\\n",
    "--weight_decay=5e-4 \\\n",
    "--checkpoint={final_checkpoint} \\\n",
    "# --test_mode"
   ]
  }
 ],
 "metadata": {
  "colab": {
   "collapsed_sections": [],
   "provenance": []
  },
  "gpuClass": "standard",
  "kernelspec": {
   "display_name": "TeethSeg",
   "language": "python",
   "name": "teethseg"
  },
  "language_info": {
   "codemirror_mode": {
    "name": "ipython",
    "version": 3
   },
   "file_extension": ".py",
   "mimetype": "text/x-python",
   "name": "python",
   "nbconvert_exporter": "python",
   "pygments_lexer": "ipython3",
   "version": "3.9.16"
  }
 },
 "nbformat": 4,
 "nbformat_minor": 4
}
