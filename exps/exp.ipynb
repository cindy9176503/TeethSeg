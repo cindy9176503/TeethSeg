{
 "cells": [
  {
   "cell_type": "code",
   "execution_count": 1,
   "metadata": {
    "id": "nmnP0OoaJ4pP"
   },
   "outputs": [
    {
     "name": "stdout",
     "output_type": "stream",
     "text": [
      "Sat Feb 25 06:21:20 2023       \n",
      "+-----------------------------------------------------------------------------+\n",
      "| NVIDIA-SMI 470.141.03   Driver Version: 470.141.03   CUDA Version: 11.4     |\n",
      "|-------------------------------+----------------------+----------------------+\n",
      "| GPU  Name        Persistence-M| Bus-Id        Disp.A | Volatile Uncorr. ECC |\n",
      "| Fan  Temp  Perf  Pwr:Usage/Cap|         Memory-Usage | GPU-Util  Compute M. |\n",
      "|                               |                      |               MIG M. |\n",
      "|===============================+======================+======================|\n",
      "|   0  Tesla V100-SXM2...  On   | 00000000:0B:00.0 Off |                    0 |\n",
      "| N/A   30C    P0    43W / 163W |      0MiB / 32510MiB |      0%      Default |\n",
      "|                               |                      |                  N/A |\n",
      "+-------------------------------+----------------------+----------------------+\n",
      "                                                                               \n",
      "+-----------------------------------------------------------------------------+\n",
      "| Processes:                                                                  |\n",
      "|  GPU   GI   CI        PID   Type   Process name                  GPU Memory |\n",
      "|        ID   ID                                                   Usage      |\n",
      "|=============================================================================|\n",
      "|  No running processes found                                                 |\n",
      "+-----------------------------------------------------------------------------+\n"
     ]
    }
   ],
   "source": [
    "!nvidia-smi"
   ]
  },
  {
   "cell_type": "markdown",
   "metadata": {
    "id": "EaIVNeQDIdaB"
   },
   "source": [
    "## Setup environment"
   ]
  },
  {
   "cell_type": "code",
   "execution_count": 12,
   "metadata": {
    "colab": {
     "base_uri": "https://localhost:8080/"
    },
    "executionInfo": {
     "elapsed": 58587,
     "status": "ok",
     "timestamp": 1667727198633,
     "user": {
      "displayName": "22",
      "userId": "12730652554089239437"
     },
     "user_tz": -480
    },
    "id": "Oj2GFXrhLdJ9",
    "outputId": "6330e29a-38e7-43a1-d5a2-bddf86d9d07d"
   },
   "outputs": [
    {
     "name": "stdout",
     "output_type": "stream",
     "text": [
      "/nfs/Workspace/TeethSeg\n",
      "The autoreload extension is already loaded. To reload it, use:\n",
      "  %reload_ext autoreload\n"
     ]
    }
   ],
   "source": [
    "workspace_dir = '/nfs/Workspace/TeethSeg'\n",
    "%cd {workspace_dir}\n",
    "%load_ext autoreload\n",
    "%autoreload 2"
   ]
  },
  {
   "cell_type": "markdown",
   "metadata": {
    "tags": []
   },
   "source": [
    "## Preprocess"
   ]
  },
  {
   "cell_type": "code",
   "execution_count": 14,
   "metadata": {},
   "outputs": [
    {
     "name": "stdout",
     "output_type": "stream",
     "text": [
      "fold: 2\n",
      "train files (4): ['1001162439_20150708', '1001275319_20180114', '1001382496_20180423', '1001382496_20201206']\n",
      "val files (2): ['1001470164_20180114', '1001487462_20180109']\n",
      "test files (2): ['1001487462_20180527', '1001487462_20190427']\n",
      "save json to /nfs/Workspace/dataset/teeth/data_29/data.json\n"
     ]
    }
   ],
   "source": [
    "!PYTHONPATH={workspace_dir} /opt/conda/envs/TeethSeg/bin/python {workspace_dir}/expers/preprocess.py"
   ]
  },
  {
   "cell_type": "markdown",
   "metadata": {
    "id": "wjHHXsxrY_GO",
    "tags": []
   },
   "source": [
    "## Setup config"
   ]
  },
  {
   "cell_type": "code",
   "execution_count": 50,
   "metadata": {
    "id": "IWG1M4NMYniV"
   },
   "outputs": [
    {
     "name": "stdout",
     "output_type": "stream",
     "text": [
      "/nfs/Workspace/TeethSeg/exps/swinunetr/teeth\n"
     ]
    }
   ],
   "source": [
    "import os\n",
    "\n",
    "model_name = 'swinunetr'\n",
    "data_name = 'teeth'\n",
    "exp_name = 'exp_2'\n",
    "\n",
    "root_exp_dir = os.path.join(\n",
    "    workspace_dir, \n",
    "    'exps',\n",
    "    model_name,\n",
    "    data_name,\n",
    "    exp_name\n",
    ")\n",
    "\n",
    "\n",
    "data_dir = '/nfs/Workspace/dataset/teeth/data_29'\n",
    "data_json = os.path.join(data_dir, 'data.json')\n",
    "model_dir = os.path.join(root_exp_dir, 'models')\n",
    "log_dir = os.path.join(root_exp_dir, 'logs')\n",
    "eval_dir = os.path.join(root_exp_dir, 'evals')\n",
    "\n",
    "best_checkpoint = os.path.join(model_dir, 'best_model.pth')\n",
    "final_checkpoint = os.path.join(model_dir, 'final_model.pth')\n",
    "\n",
    "\n",
    "os.makedirs(f'{workspace_dir}/exps/{model_name}/{data_name}', exist_ok=True)\n",
    "\n",
    "%cd {workspace_dir}/exps/{model_name}/{data_name}"
   ]
  },
  {
   "cell_type": "markdown",
   "metadata": {
    "id": "3dfeJTv8ZETs",
    "tags": []
   },
   "source": [
    "## Train/Test"
   ]
  },
  {
   "cell_type": "code",
   "execution_count": 52,
   "metadata": {
    "colab": {
     "base_uri": "https://localhost:8080/"
    },
    "executionInfo": {
     "elapsed": 5212593,
     "status": "ok",
     "timestamp": 1667732466402,
     "user": {
      "displayName": "22",
      "userId": "12730652554089239437"
     },
     "user_tz": -480
    },
    "id": "Pc5UecWCYizV",
    "outputId": "92365bec-cd7e-4561-b607-43d9f3520dd9"
   },
   "outputs": [
    {
     "name": "stdout",
     "output_type": "stream",
     "text": [
      "cuda is available\n",
      "<class 'monai.transforms.utility.array.AddChannel'>: Class `AddChannel` has been deprecated since version 0.8. please use MetaTensor data type and monai.transforms.EnsureChannelFirst instead.\n",
      "use scale intensity by range\n",
      "use scale intensity by range\n",
      "load json from /nfs/Workspace/dataset/teeth/data_29/data.json\n",
      "train files (4): ['1001162439_20150708', '1001275319_20180114', '1001382496_20180423', '1001382496_20201206']\n",
      "val files (2): ['1001470164_20180114', '1001487462_20180109']\n",
      "test files (2): ['1001487462_20180527', '1001487462_20190427']\n",
      "\n",
      "load test dataset ...\n",
      "Loading dataset: 100%|████████████████████████████| 2/2 [00:04<00:00,  2.25s/it]\n",
      "model: swinunetr\n",
      "optimzer: AdamW\n",
      "{'lr': 0.0001, 'weight_decay': 0.0005}\n",
      "=> loaded checkpoint '/nfs/Workspace/TeethSeg/exps/swinunetr/teeth/exp_2/models/final_model.pth' (epoch 821) (bestacc 0.37300512194633484) (early stop count 20)\n",
      "  0%|                                                     | 0/2 [00:00<?, ?it/s]None of the inputs have requires_grad=True. Gradients will be None\n",
      "eval (0 / 2 Steps):  50%|████████████▌            | 1/2 [00:04<00:04,  4.14s/it]the prediction of class 23 is all 0, this may result in nan/inf distance.\n",
      "invalid value encountered in subtract\n",
      "eval (1 / 2 Steps): 100%|█████████████████████████| 2/2 [00:06<00:00,  3.10s/it]\n",
      "\n",
      "eval result:\n",
      "avg dice: 0.14236934\n",
      "avg hd95: 35.28011157398174\n",
      "             patientId  type     dice1     dice2     dice3     dice4     dice5     dice6     dice7     dice8     dice9    dice10    dice11    dice12    dice13    dice14    dice15    dice16  dice17    dice18    dice19    dice20    dice21    dice22    dice23  dice24    dice25    dice26    dice27  dice28      hd951      hd952      hd953      hd954      hd955      hd956      hd957      hd958      hd959     hd9510     hd9511     hd9512     hd9513     hd9514   hd9515    hd9516     hd9517     hd9518     hd9519     hd9520     hd9521     hd9522     hd9523     hd9524     hd9525     hd9526     hd9527     hd9528\n",
      "0  1001487462_20180527  test  0.134283  0.009554  0.022046  0.203608  0.233890  0.196693  0.176166  0.105762  0.027363  0.197556  0.013029  0.467033  0.026774  0.008969  0.365672  0.270677   0.000  0.054374  0.053537  0.332041  0.021248  0.194958  0.002882     0.0  0.010762  0.000000  0.000000     0.0  59.853111  56.293872  51.348807  48.309419  43.046487  44.407207  39.383183  37.821923  45.847574  27.018512  31.111174   5.196152  61.696302   6.674084  5.00000  7.071068  13.341611  60.464441  24.269322  56.650562  34.044076  56.952095  39.454435  56.044625  52.888354  59.052517  68.474082  68.502892\n",
      "1  1001487462_20190427  test  0.197300  0.001653  0.009554  0.341246  0.309735  0.063357  0.019646  0.239707  0.044843  0.079063  0.252459  0.582278  0.179357  0.025510  0.247878  0.542601   0.035  0.474926  0.099695  0.527203  0.038503  0.355811  0.069182     0.0  0.025974  0.070312  0.011013     0.0   9.423351  55.785751  52.153619  48.662100  43.102204  49.213810  76.441750  37.160462  33.145889  27.000000  20.696506  19.031550  15.824025  11.510680  8.25825  8.674640   9.165151   6.712335  24.026026  31.000000  34.751977  36.138622  36.345564        NaN   8.124038  38.052595  15.165751  30.777844\n"
     ]
    }
   ],
   "source": [
    "# training\n",
    "!PYTHONPATH={workspace_dir} /opt/conda/envs/TeethSeg/bin/python {workspace_dir}/expers/train.py \\\n",
    "--exp_name={exp_name} \\\n",
    "--data_name={data_name} \\\n",
    "--root_exp_dir={root_exp_dir} \\\n",
    "--model_name={model_name}\\\n",
    "--data_dir={data_dir} \\\n",
    "--model_dir={model_dir} \\\n",
    "--log_dir={log_dir} \\\n",
    "--eval_dir={eval_dir} \\\n",
    "--data_dicts_json={data_json} \\\n",
    "--split_train_ratio=0.6 \\\n",
    "--num_fold=3 \\\n",
    "--fold=2 \\\n",
    "--val_every=20 \\\n",
    "--max_early_stop_count=20 \\\n",
    "--max_epoch=2000  \\\n",
    "--pin_memory \\\n",
    "--out_channels=29 \\\n",
    "--scale_intensity_type='range' \\\n",
    "--a_min=218 \\\n",
    "--a_max=3187 \\\n",
    "--roi_x=96 \\\n",
    "--roi_y=96 \\\n",
    "--roi_z=96 \\\n",
    "--space_x=1.0 \\\n",
    "--space_y=1.0 \\\n",
    "--space_z=1.0 \\\n",
    "--optim='AdamW' \\\n",
    "--lr=1e-4 \\\n",
    "--weight_decay=5e-4 \\\n",
    "--checkpoint={final_checkpoint} \\\n",
    "# --test_mode"
   ]
  }
 ],
 "metadata": {
  "colab": {
   "collapsed_sections": [],
   "provenance": []
  },
  "gpuClass": "standard",
  "kernelspec": {
   "display_name": "TeethSeg",
   "language": "python",
   "name": "teethseg"
  },
  "language_info": {
   "codemirror_mode": {
    "name": "ipython",
    "version": 3
   },
   "file_extension": ".py",
   "mimetype": "text/x-python",
   "name": "python",
   "nbconvert_exporter": "python",
   "pygments_lexer": "ipython3",
   "version": "3.9.16"
  }
 },
 "nbformat": 4,
 "nbformat_minor": 4
}
