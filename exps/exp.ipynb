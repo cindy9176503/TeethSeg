{
 "cells": [
  {
   "cell_type": "code",
   "execution_count": 1,
   "metadata": {
    "id": "nmnP0OoaJ4pP"
   },
   "outputs": [
    {
     "name": "stdout",
     "output_type": "stream",
     "text": [
      "Sat Feb 25 06:21:20 2023       \n",
      "+-----------------------------------------------------------------------------+\n",
      "| NVIDIA-SMI 470.141.03   Driver Version: 470.141.03   CUDA Version: 11.4     |\n",
      "|-------------------------------+----------------------+----------------------+\n",
      "| GPU  Name        Persistence-M| Bus-Id        Disp.A | Volatile Uncorr. ECC |\n",
      "| Fan  Temp  Perf  Pwr:Usage/Cap|         Memory-Usage | GPU-Util  Compute M. |\n",
      "|                               |                      |               MIG M. |\n",
      "|===============================+======================+======================|\n",
      "|   0  Tesla V100-SXM2...  On   | 00000000:0B:00.0 Off |                    0 |\n",
      "| N/A   30C    P0    43W / 163W |      0MiB / 32510MiB |      0%      Default |\n",
      "|                               |                      |                  N/A |\n",
      "+-------------------------------+----------------------+----------------------+\n",
      "                                                                               \n",
      "+-----------------------------------------------------------------------------+\n",
      "| Processes:                                                                  |\n",
      "|  GPU   GI   CI        PID   Type   Process name                  GPU Memory |\n",
      "|        ID   ID                                                   Usage      |\n",
      "|=============================================================================|\n",
      "|  No running processes found                                                 |\n",
      "+-----------------------------------------------------------------------------+\n"
     ]
    }
   ],
   "source": [
    "!nvidia-smi"
   ]
  },
  {
   "cell_type": "markdown",
   "metadata": {
    "id": "EaIVNeQDIdaB"
   },
   "source": [
    "## Setup environment"
   ]
  },
  {
   "cell_type": "code",
   "execution_count": 12,
   "metadata": {
    "colab": {
     "base_uri": "https://localhost:8080/"
    },
    "executionInfo": {
     "elapsed": 58587,
     "status": "ok",
     "timestamp": 1667727198633,
     "user": {
      "displayName": "22",
      "userId": "12730652554089239437"
     },
     "user_tz": -480
    },
    "id": "Oj2GFXrhLdJ9",
    "outputId": "6330e29a-38e7-43a1-d5a2-bddf86d9d07d"
   },
   "outputs": [
    {
     "name": "stdout",
     "output_type": "stream",
     "text": [
      "/nfs/Workspace/TeethSeg\n",
      "The autoreload extension is already loaded. To reload it, use:\n",
      "  %reload_ext autoreload\n"
     ]
    }
   ],
   "source": [
    "workspace_dir = '/nfs/Workspace/TeethSeg'\n",
    "%cd {workspace_dir}\n",
    "%load_ext autoreload\n",
    "%autoreload 2"
   ]
  },
  {
   "cell_type": "markdown",
   "metadata": {
    "tags": []
   },
   "source": [
    "## Preprocess"
   ]
  },
  {
   "cell_type": "code",
   "execution_count": 14,
   "metadata": {},
   "outputs": [
    {
     "name": "stdout",
     "output_type": "stream",
     "text": [
      "fold: 2\n",
      "train files (4): ['1001162439_20150708', '1001275319_20180114', '1001382496_20180423', '1001382496_20201206']\n",
      "val files (2): ['1001470164_20180114', '1001487462_20180109']\n",
      "test files (2): ['1001487462_20180527', '1001487462_20190427']\n",
      "save json to /nfs/Workspace/dataset/teeth/data_29/data.json\n"
     ]
    }
   ],
   "source": [
    "!PYTHONPATH={workspace_dir} /opt/conda/envs/TeethSeg/bin/python {workspace_dir}/expers/preprocess.py"
   ]
  },
  {
   "cell_type": "markdown",
   "metadata": {
    "id": "wjHHXsxrY_GO",
    "tags": []
   },
   "source": [
    "## Setup config"
   ]
  },
  {
   "cell_type": "code",
   "execution_count": 32,
   "metadata": {
    "id": "IWG1M4NMYniV"
   },
   "outputs": [
    {
     "name": "stdout",
     "output_type": "stream",
     "text": [
      "/nfs/Workspace/TeethSeg/exps/swinunetr/tooth\n"
     ]
    }
   ],
   "source": [
    "import os\n",
    "\n",
    "model_name = 'swinunetr'\n",
    "data_name = 'tooth'\n",
    "exp_name = 'exp_1'\n",
    "\n",
    "root_exp_dir = os.path.join(\n",
    "    workspace_dir, \n",
    "    'exps',\n",
    "    model_name,\n",
    "    data_name,\n",
    "    exp_name\n",
    ")\n",
    "\n",
    "\n",
    "data_dir = '/nfs/Workspace/dataset/teeth/data_29'\n",
    "data_json = os.path.join(data_dir, 'data.json')\n",
    "model_dir = os.path.join(root_exp_dir, 'models')\n",
    "log_dir = os.path.join(root_exp_dir, 'logs')\n",
    "eval_dir = os.path.join(root_exp_dir, 'evals')\n",
    "\n",
    "best_checkpoint = os.path.join(model_dir, 'best_model.pth')\n",
    "final_checkpoint = os.path.join(model_dir, 'final_model.pth')\n",
    "\n",
    "\n",
    "os.makedirs(f'{workspace_dir}/exps/{model_name}/{data_name}', exist_ok=True)\n",
    "\n",
    "%cd {workspace_dir}/exps/{model_name}/{data_name}"
   ]
  },
  {
   "cell_type": "markdown",
   "metadata": {
    "id": "3dfeJTv8ZETs",
    "tags": []
   },
   "source": [
    "## Train/Test"
   ]
  },
  {
   "cell_type": "code",
   "execution_count": null,
   "metadata": {
    "colab": {
     "base_uri": "https://localhost:8080/"
    },
    "executionInfo": {
     "elapsed": 5212593,
     "status": "ok",
     "timestamp": 1667732466402,
     "user": {
      "displayName": "22",
      "userId": "12730652554089239437"
     },
     "user_tz": -480
    },
    "id": "Pc5UecWCYizV",
    "outputId": "92365bec-cd7e-4561-b607-43d9f3520dd9"
   },
   "outputs": [
    {
     "name": "stdout",
     "output_type": "stream",
     "text": [
      "cuda is available\n",
      "<class 'monai.transforms.utility.array.AddChannel'>: Class `AddChannel` has been deprecated since version 0.8. please use MetaTensor data type and monai.transforms.EnsureChannelFirst instead.\n",
      "load json from /nfs/Workspace/dataset/teeth/data_29/data.json\n",
      "train files (4): ['1001162439_20150708', '1001275319_20180114', '1001382496_20180423', '1001382496_20201206']\n",
      "val files (2): ['1001470164_20180114', '1001487462_20180109']\n",
      "test files (2): ['1001487462_20180527', '1001487462_20190427']\n",
      "\n",
      "load train dataset ...\n",
      "Loading dataset: 100%|████████████████████████████| 4/4 [00:12<00:00,  3.04s/it]\n",
      "\n",
      "load val dataset ...\n",
      "Loading dataset: 100%|████████████████████████████| 2/2 [00:05<00:00,  2.79s/it]\n",
      "model: swinunetr\n",
      "optimzer: AdamW\n",
      "{'lr': 0.0005, 'weight_decay': 0.0005}\n",
      "=> loaded checkpoint '/nfs/Workspace/TeethSeg/exps/swinunetr/tooth/exp_1/models/final_model.pth' (epoch 261) (bestacc 0.68598872423172) (early stop count 7)\n",
      "[Epoch 261] Training (1047 Steps) (loss=0.06006): 100%|█| 4/4 [00:07<00:00,  1.9\n",
      "[Epoch 262] Training (1051 Steps) (loss=0.33708): 100%|█| 4/4 [00:05<00:00,  1.4\n",
      "[Epoch 263] Training (1055 Steps) (loss=0.05446): 100%|█| 4/4 [00:05<00:00,  1.3\n",
      "[Epoch 264] Training (1059 Steps) (loss=0.03766): 100%|█| 4/4 [00:05<00:00,  1.3\n",
      "[Epoch 265] Training (1063 Steps) (loss=0.10467): 100%|█| 4/4 [00:05<00:00,  1.3\n",
      "[Epoch 266] Training (1067 Steps) (loss=0.04978): 100%|█| 4/4 [00:05<00:00,  1.3\n",
      "[Epoch 267] Training (1071 Steps) (loss=0.15050): 100%|█| 4/4 [00:05<00:00,  1.3\n",
      "[Epoch 268] Training (1075 Steps) (loss=0.11479): 100%|█| 4/4 [00:05<00:00,  1.3\n",
      "[Epoch 269] Training (1079 Steps) (loss=0.05782): 100%|█| 4/4 [00:05<00:00,  1.3\n",
      "[Epoch 270] Training (1083 Steps) (loss=0.04496): 100%|█| 4/4 [00:05<00:00,  1.3\n",
      "[Epoch 271] Training (1087 Steps) (loss=0.07215): 100%|█| 4/4 [00:05<00:00,  1.3\n",
      "[Epoch 272] Training (1091 Steps) (loss=0.34614): 100%|█| 4/4 [00:05<00:00,  1.3\n",
      "[Epoch 273] Training (1095 Steps) (loss=0.27118): 100%|█| 4/4 [00:05<00:00,  1.3\n",
      "[Epoch 274] Training (1099 Steps) (loss=0.06766): 100%|█| 4/4 [00:05<00:00,  1.3\n",
      "[Epoch 275] Training (1103 Steps) (loss=0.04902): 100%|█| 4/4 [00:05<00:00,  1.3\n",
      "[Epoch 276] Training (1107 Steps) (loss=0.04496): 100%|█| 4/4 [00:05<00:00,  1.3\n",
      "[Epoch 277] Training (1111 Steps) (loss=0.06231): 100%|█| 4/4 [00:05<00:00,  1.3\n",
      "[Epoch 278] Training (1115 Steps) (loss=0.22850): 100%|█| 4/4 [00:05<00:00,  1.3\n",
      "[Epoch 279] Training (1119 Steps) (loss=0.04207): 100%|█| 4/4 [00:05<00:00,  1.3\n",
      "[Epoch 280] Training (1123 Steps) (loss=0.08192): 100%|█| 4/4 [00:05<00:00,  1.3\n",
      "Validate (X / X Steps) (dice=X.X):   0%|                  | 0/2 [00:00<?, ?it/s]None of the inputs have requires_grad=True. Gradients will be None\n",
      "Validate (1124 / 10 Steps): 100%|█████████████████| 2/2 [00:02<00:00,  1.38s/it]\n",
      "Early stop count:  8\n",
      "Final Model Was Saved ! Current Best Avg. Dice: 0.68598872423172 Current Avg. Dice: 0.6624089479446411\n",
      "Saving checkpoint /nfs/Workspace/TeethSeg/exps/swinunetr/tooth/exp_1/models/final_model.pth\n",
      "[Epoch 281] Training (1127 Steps) (loss=0.07548): 100%|█| 4/4 [00:05<00:00,  1.3\n",
      "[Epoch 282] Training (1131 Steps) (loss=0.15688): 100%|█| 4/4 [00:05<00:00,  1.3\n",
      "[Epoch 283] Training (1135 Steps) (loss=0.28124): 100%|█| 4/4 [00:05<00:00,  1.3\n",
      "[Epoch 284] Training (1139 Steps) (loss=0.07495): 100%|█| 4/4 [00:05<00:00,  1.3\n",
      "[Epoch 285] Training (1143 Steps) (loss=0.04037): 100%|█| 4/4 [00:05<00:00,  1.3\n",
      "[Epoch 286] Training (1147 Steps) (loss=0.04438): 100%|█| 4/4 [00:05<00:00,  1.3\n",
      "[Epoch 287] Training (1151 Steps) (loss=0.05087): 100%|█| 4/4 [00:05<00:00,  1.3\n",
      "[Epoch 288] Training (1155 Steps) (loss=0.06432): 100%|█| 4/4 [00:05<00:00,  1.3\n",
      "[Epoch 289] Training (1159 Steps) (loss=0.06292): 100%|█| 4/4 [00:05<00:00,  1.5\n",
      "[Epoch 290] Training (1163 Steps) (loss=0.50177): 100%|█| 4/4 [00:05<00:00,  1.3\n",
      "[Epoch 291] Training (1167 Steps) (loss=0.09012): 100%|█| 4/4 [00:05<00:00,  1.3\n",
      "[Epoch 292] Training (1171 Steps) (loss=0.27388): 100%|█| 4/4 [00:05<00:00,  1.3\n",
      "[Epoch 293] Training (1175 Steps) (loss=0.27999): 100%|█| 4/4 [00:05<00:00,  1.3\n",
      "[Epoch 294] Training (1179 Steps) (loss=0.12596): 100%|█| 4/4 [00:05<00:00,  1.3\n",
      "[Epoch 295] Training (1183 Steps) (loss=0.05521): 100%|█| 4/4 [00:05<00:00,  1.3\n",
      "[Epoch 296] Training (1187 Steps) (loss=0.28897): 100%|█| 4/4 [00:05<00:00,  1.3\n",
      "[Epoch 297] Training (1191 Steps) (loss=0.06742): 100%|█| 4/4 [00:05<00:00,  1.3\n",
      "[Epoch 298] Training (1195 Steps) (loss=0.04360): 100%|█| 4/4 [00:05<00:00,  1.3\n",
      "[Epoch 299] Training (1199 Steps) (loss=0.42684): 100%|█| 4/4 [00:05<00:00,  1.3\n",
      "[Epoch 300] Training (1203 Steps) (loss=0.28546): 100%|█| 4/4 [00:05<00:00,  1.3\n",
      "Validate (1204 / 10 Steps): 100%|█████████████████| 2/2 [00:02<00:00,  1.34s/it]\n",
      "Early stop count:  9\n",
      "Final Model Was Saved ! Current Best Avg. Dice: 0.68598872423172 Current Avg. Dice: 0.6360056400299072\n",
      "Saving checkpoint /nfs/Workspace/TeethSeg/exps/swinunetr/tooth/exp_1/models/final_model.pth\n",
      "[Epoch 301] Training (1207 Steps) (loss=0.07873): 100%|█| 4/4 [00:05<00:00,  1.3\n",
      "[Epoch 302] Training (1211 Steps) (loss=0.03851): 100%|█| 4/4 [00:05<00:00,  1.3\n",
      "[Epoch 303] Training (1215 Steps) (loss=0.27911): 100%|█| 4/4 [00:05<00:00,  1.4\n",
      "[Epoch 304] Training (1219 Steps) (loss=0.04018): 100%|█| 4/4 [00:05<00:00,  1.3\n",
      "[Epoch 305] Training (1223 Steps) (loss=0.06285): 100%|█| 4/4 [00:05<00:00,  1.3\n",
      "[Epoch 306] Training (1227 Steps) (loss=0.27274): 100%|█| 4/4 [00:05<00:00,  1.3\n",
      "[Epoch 307] Training (1231 Steps) (loss=0.03908): 100%|█| 4/4 [00:05<00:00,  1.3\n",
      "[Epoch 308] Training (1235 Steps) (loss=0.06720): 100%|█| 4/4 [00:05<00:00,  1.3\n",
      "[Epoch 309] Training (1239 Steps) (loss=0.04947): 100%|█| 4/4 [00:05<00:00,  1.3\n",
      "[Epoch 310] Training (1243 Steps) (loss=0.26743): 100%|█| 4/4 [00:05<00:00,  1.3\n",
      "Training (X / X Steps) (loss=X.X):   0%|                  | 0/4 [00:00<?, ?it/s]"
     ]
    }
   ],
   "source": [
    "# training\n",
    "!PYTHONPATH={workspace_dir} /opt/conda/envs/TeethSeg/bin/python {workspace_dir}/expers/train.py \\\n",
    "--exp_name={exp_name} \\\n",
    "--data_name={data_name} \\\n",
    "--root_exp_dir={root_exp_dir} \\\n",
    "--model_name={model_name}\\\n",
    "--data_dir={data_dir} \\\n",
    "--model_dir={model_dir} \\\n",
    "--log_dir={log_dir} \\\n",
    "--eval_dir={eval_dir} \\\n",
    "--data_dicts_json={data_json} \\\n",
    "--split_train_ratio=0.6 \\\n",
    "--num_fold=3 \\\n",
    "--fold=2 \\\n",
    "--val_every=20 \\\n",
    "--max_early_stop_count=20 \\\n",
    "--max_epoch=2000  \\\n",
    "--pin_memory \\\n",
    "--out_channels=2 \\\n",
    "--roi_x=96 \\\n",
    "--roi_y=96 \\\n",
    "--roi_z=96 \\\n",
    "--space_x=1.0 \\\n",
    "--space_y=1.0 \\\n",
    "--space_z=1.0 \\\n",
    "--optim='AdamW' \\\n",
    "--lr=5e-4 \\\n",
    "--weight_decay=5e-4 \\\n",
    "--checkpoint={final_checkpoint} \\\n",
    "# --test_mode"
   ]
  }
 ],
 "metadata": {
  "colab": {
   "collapsed_sections": [],
   "provenance": []
  },
  "gpuClass": "standard",
  "kernelspec": {
   "display_name": "TeethSeg",
   "language": "python",
   "name": "teethseg"
  },
  "language_info": {
   "codemirror_mode": {
    "name": "ipython",
    "version": 3
   },
   "file_extension": ".py",
   "mimetype": "text/x-python",
   "name": "python",
   "nbconvert_exporter": "python",
   "pygments_lexer": "ipython3",
   "version": "3.9.16"
  }
 },
 "nbformat": 4,
 "nbformat_minor": 4
}
